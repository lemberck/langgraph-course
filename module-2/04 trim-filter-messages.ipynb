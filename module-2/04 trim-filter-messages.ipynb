{
 "cells": [
  {
   "cell_type": "markdown",
   "id": "fb0ebaf1",
   "metadata": {},
   "source": [
    "[![Open in Colab](https://colab.research.google.com/assets/colab-badge.svg)](https://colab.research.google.com/github/langchain-ai/langchain-academy/blob/main/module-2/trim-filter-messages.ipynb) [![Open in LangChain Academy](https://cdn.prod.website-files.com/65b8cd72835ceeacd4449a53/66e9eba12c7b7688aa3dbb5e_LCA-badge-green.svg)](https://academy.langchain.com/courses/take/intro-to-langgraph/lessons/58239435-lesson-4-trim-and-filter-messages)"
   ]
  },
  {
   "cell_type": "markdown",
   "id": "c52ea2f9-03ff-4647-b782-46867ebed04e",
   "metadata": {},
   "source": [
    "# Filtering and trimming messages\n",
    "\n",
    "## Review\n",
    "\n",
    "Now, we have a deeper understanding of a few things: \n",
    "\n",
    "* How to customize the graph state schema\n",
    "* How to define custom state reducers\n",
    "* How to use multiple graph state schemas\n",
    "\n",
    "## Goals\n",
    "\n",
    "Now, we can start using these concepts with models in LangGraph!\n",
    " \n",
    "In the next few sessions, we'll build towards a chatbot that has long-term memory.\n",
    "\n",
    "Because our chatbot will use messages, let's first talk a bit more about advanced ways to work with messages in graph state."
   ]
  },
  {
   "cell_type": "code",
   "execution_count": 2,
   "id": "d5197aba-5d46-421b-ae3b-4e3034edcfda",
   "metadata": {},
   "outputs": [],
   "source": [
    "%%capture --no-stderr\n",
    "%pip install --quiet -U langchain_core langgraph langchain_openai"
   ]
  },
  {
   "cell_type": "markdown",
   "id": "52999415",
   "metadata": {},
   "source": [
    "#### Provide openai API key when prompted\n",
    "> You'll need to restart the kernel if you run this cell multiple times. Run this manually once."
   ]
  },
  {
   "cell_type": "code",
   "execution_count": 3,
   "id": "768dc606-d5f2-468d-96ea-910b264e0f8a",
   "metadata": {},
   "outputs": [],
   "source": [
    "import os, getpass\n",
    "\n",
    "def _set_env(var: str):\n",
    "    if not os.environ.get(var):\n",
    "        os.environ[var] = getpass.getpass(f\"{var}: \")\n",
    "\n",
    "_set_env(\"OPENAI_API_KEY\")"
   ]
  },
  {
   "cell_type": "markdown",
   "id": "8b64d8d3-e4ac-4961-bdc0-688825eb5864",
   "metadata": {},
   "source": [
    "We'll use [LangSmith](https://docs.smith.langchain.com/) for [tracing](https://docs.smith.langchain.com/concepts/tracing).\n",
    "\n",
    "We'll log to a project, `langchain-academy`. "
   ]
  },
  {
   "cell_type": "markdown",
   "id": "6e932c81",
   "metadata": {},
   "source": [
    "#### Provide langsmith API key when prompted\n",
    "> You'll need to restart the kernel if you run this cell multiple times. Run this manually once."
   ]
  },
  {
   "cell_type": "code",
   "execution_count": 4,
   "id": "dd020c79",
   "metadata": {},
   "outputs": [],
   "source": [
    "_set_env(\"LANGSMITH_API_KEY\")\n",
    "os.environ[\"LANGSMITH_TRACING\"] = \"true\"\n",
    "os.environ[\"LANGSMITH_PROJECT\"] = \"langchain-academy\""
   ]
  },
  {
   "cell_type": "markdown",
   "id": "72f3fc90-58b6-4f7f-897e-dddf6ae532c7",
   "metadata": {},
   "source": [
    "## Messages as state\n",
    "\n",
    "First, let's define some messages."
   ]
  },
  {
   "cell_type": "code",
   "execution_count": 5,
   "id": "cf11a463-e27a-4a05-b41d-64882e38edca",
   "metadata": {},
   "outputs": [
    {
     "name": "stdout",
     "output_type": "stream",
     "text": [
      "==================================\u001b[1m Ai Message \u001b[0m==================================\n",
      "Name: Bot\n",
      "\n",
      "So you said you were researching ocean mammals?\n",
      "================================\u001b[1m Human Message \u001b[0m=================================\n",
      "Name: Lance\n",
      "\n",
      "Yes, I know about whales. But what others should I learn about?\n"
     ]
    }
   ],
   "source": [
    "from pprint import pprint\n",
    "from langchain_core.messages import AIMessage, HumanMessage\n",
    "messages = [AIMessage(f\"So you said you were researching ocean mammals?\", name=\"Bot\")]\n",
    "messages.append(HumanMessage(f\"Yes, I know about whales. But what others should I learn about?\", name=\"Lance\"))\n",
    "\n",
    "for m in messages:\n",
    "    m.pretty_print()"
   ]
  },
  {
   "cell_type": "markdown",
   "id": "b814adcb-6bf9-4b75-be11-e59f933fbd0c",
   "metadata": {},
   "source": [
    "Recall we can pass them to a chat model."
   ]
  },
  {
   "cell_type": "code",
   "execution_count": 6,
   "id": "4712e288-e622-48a2-ad3f-a52f65f3ab08",
   "metadata": {},
   "outputs": [
    {
     "data": {
      "text/plain": [
       "AIMessage(content='In addition to whales, there are several other fascinating ocean mammals you might want to learn about:\\n\\n1. **Dolphins**: Known for their intelligence and playful behavior, dolphins are social animals that often live in pods.\\n\\n2. **Porpoises**: Similar to dolphins but typically smaller, porpoises are also highly social and known for their rounded faces.\\n\\n3. **Seals**: There are several species of seals, including harbor seals and elephant seals. They are known for their agility in the water and often haul out on land to rest.\\n\\n4. **Sea Lions**: Similar to seals, sea lions are known for their loud barking and can often be seen in larger groups.\\n\\n5. **Narwhals**: Known as the \"unicorn of the sea,\" narwhals are distinguished by their long, spiral tusk, which is actually an elongated tooth.\\n\\n6. **Manatees**: Also known as sea cows, manatees are gentle herbivores that inhabit warm coastal waters and rivers.\\n\\n7. **Dugongs**: Similar to manatees, these marine mammals are also herbivorous and are found in warm coastal waters.\\n\\n8. **Orcas**: Also known as killer whales, orcas are actually the largest members of the dolphin family and are known for their complex social structures.\\n\\n9. **Polar Bears**: Although primarily land mammals, polar bears are excellent swimmers and spend a significant amount of time in Arctic waters.\\n\\n10. **Bottlenose Dolphins**: One of the most well-known dolphin species, they are commonly recognized due to their presence in aquariums and marine parks.\\n\\nEach of these species has unique behaviors, adaptations, and ecological roles, making them all fascinating subjects of study!', additional_kwargs={'refusal': None}, response_metadata={'token_usage': {'completion_tokens': 357, 'prompt_tokens': 39, 'total_tokens': 396, 'completion_tokens_details': {'accepted_prediction_tokens': 0, 'audio_tokens': 0, 'reasoning_tokens': 0, 'rejected_prediction_tokens': 0}, 'prompt_tokens_details': {'audio_tokens': 0, 'cached_tokens': 0}}, 'model_name': 'gpt-4o-mini-2024-07-18', 'system_fingerprint': 'fp_560af6e559', 'id': 'chatcmpl-CJltsEFKiztqXppXqgpNc5TsFafgn', 'service_tier': 'default', 'finish_reason': 'stop', 'logprobs': None}, id='run--b44a4739-809e-4e18-a8a6-d0395f1ec4f1-0', usage_metadata={'input_tokens': 39, 'output_tokens': 357, 'total_tokens': 396, 'input_token_details': {'audio': 0, 'cache_read': 0}, 'output_token_details': {'audio': 0, 'reasoning': 0}})"
      ]
     },
     "execution_count": 6,
     "metadata": {},
     "output_type": "execute_result"
    }
   ],
   "source": [
    "from langchain_openai import ChatOpenAI\n",
    "llm = ChatOpenAI(model=\"gpt-4o-mini\")\n",
    "llm.invoke(messages)"
   ]
  },
  {
   "cell_type": "markdown",
   "id": "fbd1dab8-0af8-4621-8264-ce65065f76ec",
   "metadata": {},
   "source": [
    "We can run our chat model in a simple graph with `MessagesState`."
   ]
  },
  {
   "cell_type": "code",
   "execution_count": 7,
   "id": "bbd8c39c-633b-4176-9cc6-8318e42bb5dd",
   "metadata": {},
   "outputs": [
    {
     "data": {
      "image/png": "[encoded data removed]",
      "text/plain": [
       "<IPython.core.display.Image object>"
      ]
     },
     "metadata": {},
     "output_type": "display_data"
    }
   ],
   "source": [
    "from IPython.display import Image, display\n",
    "from langgraph.graph import MessagesState\n",
    "from langgraph.graph import StateGraph, START, END\n",
    "\n",
    "# Node\n",
    "def chat_model_node(state: MessagesState):\n",
    "    return {\"messages\": llm.invoke(state[\"messages\"])}\n",
    "\n",
    "# Build graph\n",
    "builder = StateGraph(MessagesState)\n",
    "builder.add_node(\"chat_model\", chat_model_node)\n",
    "builder.add_edge(START, \"chat_model\")\n",
    "builder.add_edge(\"chat_model\", END)\n",
    "graph = builder.compile()\n",
    "\n",
    "# View\n",
    "display(Image(graph.get_graph().draw_mermaid_png()))"
   ]
  },
  {
   "cell_type": "code",
   "execution_count": 8,
   "id": "3a5a3e4a-ccfd-4d14-81f1-f0de6e11a1e4",
   "metadata": {},
   "outputs": [
    {
     "name": "stdout",
     "output_type": "stream",
     "text": [
      "==================================\u001b[1m Ai Message \u001b[0m==================================\n",
      "Name: Bot\n",
      "\n",
      "So you said you were researching ocean mammals?\n",
      "================================\u001b[1m Human Message \u001b[0m=================================\n",
      "Name: Lance\n",
      "\n",
      "Yes, I know about whales. But what others should I learn about?\n",
      "==================================\u001b[1m Ai Message \u001b[0m==================================\n",
      "\n",
      "There are several fascinating ocean mammals you might want to learn about:\n",
      "\n",
      "1. **Dolphins** - Known for their intelligence and social behavior. Bottlenose dolphins are the most well-known species.\n",
      "\n",
      "2. **Seals** - These marine mammals are found in various environments. Common species include harbor seals and elephant seals.\n",
      "\n",
      "3. **Sea Lions** - Similar to seals but with external ear flaps and a more sociable behavior. California sea lions are a popular species often seen in aquariums.\n",
      "\n",
      "4. **Manatees** - Often called sea cows, these gentle herbivores inhabit warm coastal waters and rivers.\n",
      "\n",
      "5. **Walruses** - Recognizable by their long tusks, walruses are social animals that often gather in large herds on sea ice.\n",
      "\n",
      "6. **Narwhals** - Sometimes referred to as the \"unicorns of the sea,\" male narwhals are known for their long, spiral tusks.\n",
      "\n",
      "7. **Beluga Whales** - Known for their white color and vocalizations, belugas are highly social and live in Arctic and sub-Arctic waters.\n",
      "\n",
      "8. **Orcas (Killer Whales)** - These highly intelligent and social marine mammals are actually the largest members of the dolphin family.\n",
      "\n",
      "9. **Porpoises** - Often confused with dolphins, porpoises are smaller and have a more rounded snout. \n",
      "\n",
      "Learning about each of these species can provide a deeper understanding of marine ecosystems and the importance of conservation efforts. Let me know if you want details on any specific mammal!\n"
     ]
    }
   ],
   "source": [
    "output = graph.invoke({'messages': messages})\n",
    "for m in output['messages']:\n",
    "    m.pretty_print()"
   ]
  },
  {
   "cell_type": "markdown",
   "id": "34c33e63-1ef4-412d-bb10-6a1b9e5b35a7",
   "metadata": {},
   "source": [
    "## Reducer\n",
    "\n",
    "A practical challenge when working with messages is managing long-running conversations. \n",
    "\n",
    "Long-running conversations result in high token usage and latency if we are not careful, because we pass a growing list of messages to the model.\n",
    "\n",
    "We have a few ways to address this.\n",
    "\n",
    "#### First, recall the trick we saw using `RemoveMessage` and the `add_messages` reducer."
   ]
  },
  {
   "cell_type": "code",
   "execution_count": 9,
   "id": "222c6bc5-bb0e-4a43-80f5-c8ec38d99f3a",
   "metadata": {},
   "outputs": [],
   "source": [
    "from langchain_core.messages import RemoveMessage\n",
    "\n",
    "# Nodes\n",
    "def filter_messages(state: MessagesState):\n",
    "    # Delete all but the 2 most recent messages (id 3 and 4)\n",
    "    delete_messages = [RemoveMessage(id=m.id) for m in state[\"messages\"][:-2]]\n",
    "    return {\"messages\": delete_messages}\n",
    "\n",
    "def chat_model_node(state: MessagesState):    \n",
    "    return {\"messages\": [llm.invoke(state[\"messages\"])]}\n",
    "\n",
    "# Build graph\n",
    "builder = StateGraph(MessagesState)\n",
    "builder.add_node(\"filter\", filter_messages) # filter out messages id 1 and 2\n",
    "builder.add_node(\"chat_model\", chat_model_node) # add new message generated by the LLM\n",
    "builder.add_edge(START, \"filter\")\n",
    "builder.add_edge(\"filter\", \"chat_model\")\n",
    "builder.add_edge(\"chat_model\", END)\n",
    "graph = builder.compile()\n",
    "\n",
    "# View\n",
    "#display(Image(graph.get_graph().draw_mermaid_png()))"
   ]
  },
  {
   "cell_type": "code",
   "execution_count": 10,
   "id": "95a7c2cc-54ce-43e7-9a90-abf37827d709",
   "metadata": {},
   "outputs": [
    {
     "name": "stdout",
     "output_type": "stream",
     "text": [
      "==================================\u001b[1m Ai Message \u001b[0m==================================\n",
      "Name: Bot\n",
      "\n",
      "So you said you were researching ocean mammals?\n",
      "================================\u001b[1m Human Message \u001b[0m=================================\n",
      "Name: Lance\n",
      "\n",
      "Yes, I know about whales. But what others should I learn about?\n",
      "==================================\u001b[1m Ai Message \u001b[0m==================================\n",
      "\n",
      "In addition to whales, there are several fascinating ocean mammals you might want to learn about:\n",
      "\n",
      "1. **Dolphins**: Highly intelligent and social creatures, dolphins belong to the family of cetaceans, like whales. The bottlenose dolphin is one of the most well-known species.\n",
      "\n",
      "2. **Porpoises**: Similar to dolphins but generally smaller, porpoises also have a more rounded snout and differ in social behavior.\n",
      "\n",
      "3. **Sea Lions**: These marine mammals are known for their external ear flaps and can be quite playful. Sea lions are often found along the coasts.\n",
      "\n",
      "4. **Seals**: Unlike sea lions, seals lack external ear flaps and have a more streamlined body. They are known for their graceful swimming.\n",
      "\n",
      "5. **Manatees**: Also known as sea cows, manatees are gentle herbivores that inhabit warm coastal waters and rivers.\n",
      "\n",
      "6. **Dugongs**: Similar to manatees, dugongs are also herbivorous but are primarily found in the coastal waters of the Indo-Pacific region.\n",
      "\n",
      "7. **Narwhals**: Known for their long, spiral tusk, narwhals are unique Arctic whales that are often referred to as the “unicorns of the sea.”\n",
      "\n",
      "8. **Belugas**: These small white whales are known for their vocalizations and are often called the “canaries of the sea.”\n",
      "\n",
      "9. **Orcas (Killer Whales)**: Despite their name, orcas are actually the largest members of the dolphin family and are known for their complex social structures and hunting techniques.\n",
      "\n",
      "10. **Sperm Whales**: These deep-diving whales are known for their large heads and are capable of holding their breath for extended periods while hunting for squid.\n",
      "\n",
      "Each of these marine mammals has unique adaptations and behaviors that make them special. Exploring their habitats, social structures, and conservation challenges can provide a deeper understanding of their roles in the ocean ecosystem.\n"
     ]
    }
   ],
   "source": [
    "# Message list with a preamble\n",
    "# Preamble: block of messages that are added to the start of a \n",
    "# conversation before the user/AI messages that establish context or instructions for the model.\n",
    "# E.g: system prompt, persona or role instruction, context injection\n",
    "messages = [AIMessage(\"Hi.\", name=\"Bot\", id=\"1\")]\n",
    "messages.append(HumanMessage(\"Hi.\", name=\"Lance\", id=\"2\"))\n",
    "messages.append(AIMessage(\"So you said you were researching ocean mammals?\", name=\"Bot\", id=\"3\"))\n",
    "messages.append(HumanMessage(\"Yes, I know about whales. But what others should I learn about?\", name=\"Lance\", id=\"4\"))\n",
    "\n",
    "# Invoke\n",
    "output = graph.invoke({'messages': messages})\n",
    "for m in output['messages']:\n",
    "    m.pretty_print()"
   ]
  },
  {
   "cell_type": "markdown",
   "id": "f506457d-014b-4fee-a684-e5edfb4b8f0d",
   "metadata": {},
   "source": [
    "## Filtering messages\n",
    "\n",
    "If you don't need or want to modify the graph state, you can just filter the messages you pass to the chat model.\n",
    "\n",
    "For example, just pass in a filtered list: `llm.invoke(messages[-1:])` to the model.\n",
    "> \"messages[-1:]\" returns a list containing only the last message wrapped as a list, instead of only the single object we'd get from \"messages[-1]\", since llm.invoke() expects a list of messages."
   ]
  },
  {
   "cell_type": "code",
   "execution_count": 11,
   "id": "22d0b904-7cd6-486b-8948-105bee3d4683",
   "metadata": {},
   "outputs": [],
   "source": [
    "# Node\n",
    "def chat_model_node(state: MessagesState):\n",
    "    return {\"messages\": [llm.invoke(state[\"messages\"][-1:])]}\n",
    "\n",
    "# Build graph\n",
    "builder = StateGraph(MessagesState)\n",
    "builder.add_node(\"chat_model\", chat_model_node)\n",
    "builder.add_edge(START, \"chat_model\")\n",
    "builder.add_edge(\"chat_model\", END)\n",
    "graph = builder.compile()\n",
    "\n",
    "# View\n",
    "#display(Image(graph.get_graph().draw_mermaid_png()))"
   ]
  },
  {
   "cell_type": "markdown",
   "id": "6f58c6fc-532f-418d-b70a-cfcb3307daf5",
   "metadata": {},
   "source": [
    "Let's take our existing list of messages, append the above LLM response, and append a follow-up question."
   ]
  },
  {
   "cell_type": "code",
   "execution_count": 12,
   "id": "16956015-1dbe-4108-89b5-4209b68b51ca",
   "metadata": {},
   "outputs": [],
   "source": [
    "messages.append(output['messages'][-1])\n",
    "messages.append(HumanMessage(f\"Tell me more about Narwhals!\", name=\"Lance\"))"
   ]
  },
  {
   "cell_type": "code",
   "execution_count": 13,
   "id": "85563415-c085-46a8-a4ac-155df798c54e",
   "metadata": {},
   "outputs": [
    {
     "name": "stdout",
     "output_type": "stream",
     "text": [
      "==================================\u001b[1m Ai Message \u001b[0m==================================\n",
      "Name: Bot\n",
      "\n",
      "Hi.\n",
      "================================\u001b[1m Human Message \u001b[0m=================================\n",
      "Name: Lance\n",
      "\n",
      "Hi.\n",
      "==================================\u001b[1m Ai Message \u001b[0m==================================\n",
      "Name: Bot\n",
      "\n",
      "So you said you were researching ocean mammals?\n",
      "================================\u001b[1m Human Message \u001b[0m=================================\n",
      "Name: Lance\n",
      "\n",
      "Yes, I know about whales. But what others should I learn about?\n",
      "==================================\u001b[1m Ai Message \u001b[0m==================================\n",
      "\n",
      "In addition to whales, there are several fascinating ocean mammals you might want to learn about:\n",
      "\n",
      "1. **Dolphins**: Highly intelligent and social creatures, dolphins belong to the family of cetaceans, like whales. The bottlenose dolphin is one of the most well-known species.\n",
      "\n",
      "2. **Porpoises**: Similar to dolphins but generally smaller, porpoises also have a more rounded snout and differ in social behavior.\n",
      "\n",
      "3. **Sea Lions**: These marine mammals are known for their external ear flaps and can be quite playful. Sea lions are often found along the coasts.\n",
      "\n",
      "4. **Seals**: Unlike sea lions, seals lack external ear flaps and have a more streamlined body. They are known for their graceful swimming.\n",
      "\n",
      "5. **Manatees**: Also known as sea cows, manatees are gentle herbivores that inhabit warm coastal waters and rivers.\n",
      "\n",
      "6. **Dugongs**: Similar to manatees, dugongs are also herbivorous but are primarily found in the coastal waters of the Indo-Pacific region.\n",
      "\n",
      "7. **Narwhals**: Known for their long, spiral tusk, narwhals are unique Arctic whales that are often referred to as the “unicorns of the sea.”\n",
      "\n",
      "8. **Belugas**: These small white whales are known for their vocalizations and are often called the “canaries of the sea.”\n",
      "\n",
      "9. **Orcas (Killer Whales)**: Despite their name, orcas are actually the largest members of the dolphin family and are known for their complex social structures and hunting techniques.\n",
      "\n",
      "10. **Sperm Whales**: These deep-diving whales are known for their large heads and are capable of holding their breath for extended periods while hunting for squid.\n",
      "\n",
      "Each of these marine mammals has unique adaptations and behaviors that make them special. Exploring their habitats, social structures, and conservation challenges can provide a deeper understanding of their roles in the ocean ecosystem.\n",
      "================================\u001b[1m Human Message \u001b[0m=================================\n",
      "Name: Lance\n",
      "\n",
      "Tell me more about Narwhals!\n"
     ]
    }
   ],
   "source": [
    "for m in messages:\n",
    "    m.pretty_print()"
   ]
  },
  {
   "cell_type": "code",
   "execution_count": 14,
   "id": "23349705-a059-47b5-9760-d8f64e687393",
   "metadata": {},
   "outputs": [
    {
     "name": "stdout",
     "output_type": "stream",
     "text": [
      "==================================\u001b[1m Ai Message \u001b[0m==================================\n",
      "Name: Bot\n",
      "\n",
      "Hi.\n",
      "================================\u001b[1m Human Message \u001b[0m=================================\n",
      "Name: Lance\n",
      "\n",
      "Hi.\n",
      "==================================\u001b[1m Ai Message \u001b[0m==================================\n",
      "Name: Bot\n",
      "\n",
      "So you said you were researching ocean mammals?\n",
      "================================\u001b[1m Human Message \u001b[0m=================================\n",
      "Name: Lance\n",
      "\n",
      "Yes, I know about whales. But what others should I learn about?\n",
      "==================================\u001b[1m Ai Message \u001b[0m==================================\n",
      "\n",
      "In addition to whales, there are several fascinating ocean mammals you might want to learn about:\n",
      "\n",
      "1. **Dolphins**: Highly intelligent and social creatures, dolphins belong to the family of cetaceans, like whales. The bottlenose dolphin is one of the most well-known species.\n",
      "\n",
      "2. **Porpoises**: Similar to dolphins but generally smaller, porpoises also have a more rounded snout and differ in social behavior.\n",
      "\n",
      "3. **Sea Lions**: These marine mammals are known for their external ear flaps and can be quite playful. Sea lions are often found along the coasts.\n",
      "\n",
      "4. **Seals**: Unlike sea lions, seals lack external ear flaps and have a more streamlined body. They are known for their graceful swimming.\n",
      "\n",
      "5. **Manatees**: Also known as sea cows, manatees are gentle herbivores that inhabit warm coastal waters and rivers.\n",
      "\n",
      "6. **Dugongs**: Similar to manatees, dugongs are also herbivorous but are primarily found in the coastal waters of the Indo-Pacific region.\n",
      "\n",
      "7. **Narwhals**: Known for their long, spiral tusk, narwhals are unique Arctic whales that are often referred to as the “unicorns of the sea.”\n",
      "\n",
      "8. **Belugas**: These small white whales are known for their vocalizations and are often called the “canaries of the sea.”\n",
      "\n",
      "9. **Orcas (Killer Whales)**: Despite their name, orcas are actually the largest members of the dolphin family and are known for their complex social structures and hunting techniques.\n",
      "\n",
      "10. **Sperm Whales**: These deep-diving whales are known for their large heads and are capable of holding their breath for extended periods while hunting for squid.\n",
      "\n",
      "Each of these marine mammals has unique adaptations and behaviors that make them special. Exploring their habitats, social structures, and conservation challenges can provide a deeper understanding of their roles in the ocean ecosystem.\n",
      "================================\u001b[1m Human Message \u001b[0m=================================\n",
      "Name: Lance\n",
      "\n",
      "Tell me more about Narwhals!\n",
      "==================================\u001b[1m Ai Message \u001b[0m==================================\n",
      "\n",
      "Narwhals (Monodon monoceros) are fascinating marine mammals known for their long, spiral tusk, which is actually an elongated tooth. Here are some interesting facts about narwhals:\n",
      "\n",
      "1. **Habitat**: Narwhals are typically found in the Arctic waters, particularly around Greenland, Canada, and Russia. They prefer icy coastal waters and deep fjords.\n",
      "\n",
      "2. **Tusk**: The tusk can grow up to 10 feet (3 meters) long and is often mistakenly thought to be a horn. It is more common for male narwhals to have tusks, although about 15% of females also grow them. The tusk is believed to have sensory functions and may play a role in mating displays.\n",
      "\n",
      "3. **Diet**: Narwhals primarily feed on fish, squid, and shrimp. They are deep divers, capable of reaching depths of up to 1,500 meters (4,920 feet) in search of food.\n",
      "\n",
      "4. **Social Behavior**: Narwhals are social animals and are often found in groups, known as pods, which can range from a few individuals to over a hundred. They are known to communicate using a variety of sounds, including clicks, whistles, and songs.\n",
      "\n",
      "5. **Migration**: Narwhals typically migrate between summer feeding grounds and their wintering areas. In summer, they can be found in shallower waters, and in winter, they tend to stay in areas of open water surrounded by ice.\n",
      "\n",
      "6. **Conservation Status**: Narwhals are listed as \"Near Threatened\" on the IUCN Red List due to climate change, which affects their habitat, as well as hunting pressures in certain regions.\n",
      "\n",
      "7. **Unique Adaptations**: Narwhals have adaptations for living in cold waters, such as a thick layer of blubber for insulation and a specialized circulatory system that helps them manage their body temperature.\n",
      "\n",
      "Narwhals are emblematic of the Arctic's unique biodiversity, and their striking appearance often captivates researchers and the public alike.\n"
     ]
    }
   ],
   "source": [
    "# Invoke, using message filtering\n",
    "output = graph.invoke({'messages': messages})\n",
    "\n",
    "# Prints the entire state to check it still has ALL the messages\n",
    "for m in output['messages']:\n",
    "    m.pretty_print()"
   ]
  },
  {
   "cell_type": "markdown",
   "id": "42e1d8d2-e297-4d78-b54c-d12b3c866745",
   "metadata": {},
   "source": [
    "#### The state has all of the mesages.\n",
    "\n",
    "#### But, let's look at the LangSmith trace to see that the model invocation only uses the last message:\n",
    "\n",
    "https://smith.langchain.com/public/75aca3ce-ef19-4b92-94be-0178c7a660d9/r\n",
    "\n",
    "### Conclusion\n",
    "Although the state has all of the messages, only the last message is sent to the model, so there is a token cost optimization.\n",
    "\n",
    "#### Filtering Messages\n",
    "\n",
    "In LangGraph, the state can maintain the entire conversation history, but you control how much of that history is passed to the model. For example:\n",
    "\n",
    "```python\n",
    "# Only send the last message to the model\n",
    "llm.invoke(state[\"messages\"][-1:])\n",
    "```\n",
    "\n",
    "Here, the state still contains all messages, but the model only sees the most recent one. \n",
    "> This pattern is useful when you want to optimize token usage and each response should depend only on the latest user input (e.g., stateless chat or FAQ bots). \n",
    "\n",
    "However, if a user’s query depends on earlier parts of the conversation, that context will be missing because only the last message was provided. \n",
    "\n",
    "> In those cases, you may choose to pass the last N messages (e.g., state[\"messages\"][-3:]) or the full history (state[\"messages\"][:]). \n",
    "\n",
    "This selective filtering gives you a trade-off between **cost efficiency** and **context preservation**, depending on the needs of your application.\n",
    "\n",
    "##### Keeping the full state is still important:\n",
    "\n",
    "- Other nodes (e.g. filters, analytics, memory updaters) may rely on the entire history.\n",
    "\n",
    "- You may want to implement a different node later that uses more of the history.\n",
    "\n",
    "- LangSmith traces and debugging are clearer when the whole conversation is preserved.\n"
   ]
  },
  {
   "cell_type": "markdown",
   "id": "fc40d930-3c1f-47fe-8d2a-ce174873353c",
   "metadata": {},
   "source": [
    "## Trim messages\n",
    "\n",
    "Another approach is to [trim messages](https://python.langchain.com/v0.2/docs/how_to/trim_messages/#getting-the-last-max_tokens-tokens), based upon a set number of tokens. \n",
    "\n",
    "##### This restricts the message history to a specified number of tokens.\n",
    "\n",
    "While filtering only returns a post-hoc subset of the messages between agents, trimming restricts the number of tokens that a chat model can use to respond.\n",
    "\n",
    "See the `trim_messages` below."
   ]
  },
  {
   "cell_type": "code",
   "execution_count": 15,
   "id": "2ff99b81-cf03-4cc2-b44f-44829a73e1fd",
   "metadata": {},
   "outputs": [
    {
     "data": {
      "image/png": "[encoded data removed]",
      "text/plain": [
       "<IPython.core.display.Image object>"
      ]
     },
     "metadata": {},
     "output_type": "display_data"
    }
   ],
   "source": [
    "from langchain_core.messages import trim_messages\n",
    "\n",
    "# Node\n",
    "def chat_model_node(state: MessagesState):\n",
    "    messages = trim_messages(\n",
    "            state[\"messages\"],\n",
    "            max_tokens=100, # TOKEN LIMITATION\n",
    "            strategy=\"last\", # Keep the last <= n_count tokens of the messages\n",
    "            token_counter=ChatOpenAI(model=\"gpt-4o-mini\"),\n",
    "            allow_partial=False, # Whether to split a message if only part of the message can be included. If ``strategy=\"last\"`` then the last partial contents of a message are included.\n",
    "        )\n",
    "    return {\"messages\": [llm.invoke(messages)]}\n",
    "\n",
    "# Build graph\n",
    "builder = StateGraph(MessagesState)\n",
    "builder.add_node(\"chat_model\", chat_model_node)\n",
    "builder.add_edge(START, \"chat_model\")\n",
    "builder.add_edge(\"chat_model\", END)\n",
    "graph = builder.compile()\n",
    "\n",
    "# View\n",
    "display(Image(graph.get_graph().draw_mermaid_png()))"
   ]
  },
  {
   "cell_type": "code",
   "execution_count": 18,
   "id": "24df63ac-da29-4874-b3df-7e390e97cc8a",
   "metadata": {},
   "outputs": [
    {
     "data": {
      "text/plain": [
       "[AIMessage(content='Hi.', additional_kwargs={}, response_metadata={}, name='Bot', id='1'),\n",
       " HumanMessage(content='Hi.', additional_kwargs={}, response_metadata={}, name='Lance', id='2'),\n",
       " AIMessage(content='So you said you were researching ocean mammals?', additional_kwargs={}, response_metadata={}, name='Bot', id='3'),\n",
       " HumanMessage(content='Yes, I know about whales. But what others should I learn about?', additional_kwargs={}, response_metadata={}, name='Lance', id='4'),\n",
       " AIMessage(content='In addition to whales, there are several fascinating ocean mammals you might want to learn about:\\n\\n1. **Dolphins**: Highly intelligent and social creatures, dolphins belong to the family of cetaceans, like whales. The bottlenose dolphin is one of the most well-known species.\\n\\n2. **Porpoises**: Similar to dolphins but generally smaller, porpoises also have a more rounded snout and differ in social behavior.\\n\\n3. **Sea Lions**: These marine mammals are known for their external ear flaps and can be quite playful. Sea lions are often found along the coasts.\\n\\n4. **Seals**: Unlike sea lions, seals lack external ear flaps and have a more streamlined body. They are known for their graceful swimming.\\n\\n5. **Manatees**: Also known as sea cows, manatees are gentle herbivores that inhabit warm coastal waters and rivers.\\n\\n6. **Dugongs**: Similar to manatees, dugongs are also herbivorous but are primarily found in the coastal waters of the Indo-Pacific region.\\n\\n7. **Narwhals**: Known for their long, spiral tusk, narwhals are unique Arctic whales that are often referred to as the “unicorns of the sea.”\\n\\n8. **Belugas**: These small white whales are known for their vocalizations and are often called the “canaries of the sea.”\\n\\n9. **Orcas (Killer Whales)**: Despite their name, orcas are actually the largest members of the dolphin family and are known for their complex social structures and hunting techniques.\\n\\n10. **Sperm Whales**: These deep-diving whales are known for their large heads and are capable of holding their breath for extended periods while hunting for squid.\\n\\nEach of these marine mammals has unique adaptations and behaviors that make them special. Exploring their habitats, social structures, and conservation challenges can provide a deeper understanding of their roles in the ocean ecosystem.', additional_kwargs={'refusal': None}, response_metadata={'token_usage': {'completion_tokens': 401, 'prompt_tokens': 39, 'total_tokens': 440, 'completion_tokens_details': {'accepted_prediction_tokens': 0, 'audio_tokens': 0, 'reasoning_tokens': 0, 'rejected_prediction_tokens': 0}, 'prompt_tokens_details': {'audio_tokens': 0, 'cached_tokens': 0}}, 'model_name': 'gpt-4o-mini-2024-07-18', 'system_fingerprint': 'fp_560af6e559', 'id': 'chatcmpl-CJlwAHHV5anlOrjXrQywGa5wzHJDS', 'service_tier': 'default', 'finish_reason': 'stop', 'logprobs': None}, id='run--8e358b2c-dcab-4b60-8f85-22ec28b04440-0', usage_metadata={'input_tokens': 39, 'output_tokens': 401, 'total_tokens': 440, 'input_token_details': {'audio': 0, 'cache_read': 0}, 'output_token_details': {'audio': 0, 'reasoning': 0}}),\n",
       " HumanMessage(content='Tell me more about Narwhals!', additional_kwargs={}, response_metadata={}, name='Lance', id='43281447-da13-48f1-9001-9ee6c152d3c1'),\n",
       " AIMessage(content='Narwhals (Monodon monoceros) are fascinating marine mammals known for their long, spiral tusk, which is actually an elongated tooth. Here are some interesting facts about narwhals:\\n\\n1. **Habitat**: Narwhals are typically found in the Arctic waters, particularly around Greenland, Canada, and Russia. They prefer icy coastal waters and deep fjords.\\n\\n2. **Tusk**: The tusk can grow up to 10 feet (3 meters) long and is often mistakenly thought to be a horn. It is more common for male narwhals to have tusks, although about 15% of females also grow them. The tusk is believed to have sensory functions and may play a role in mating displays.\\n\\n3. **Diet**: Narwhals primarily feed on fish, squid, and shrimp. They are deep divers, capable of reaching depths of up to 1,500 meters (4,920 feet) in search of food.\\n\\n4. **Social Behavior**: Narwhals are social animals and are often found in groups, known as pods, which can range from a few individuals to over a hundred. They are known to communicate using a variety of sounds, including clicks, whistles, and songs.\\n\\n5. **Migration**: Narwhals typically migrate between summer feeding grounds and their wintering areas. In summer, they can be found in shallower waters, and in winter, they tend to stay in areas of open water surrounded by ice.\\n\\n6. **Conservation Status**: Narwhals are listed as \"Near Threatened\" on the IUCN Red List due to climate change, which affects their habitat, as well as hunting pressures in certain regions.\\n\\n7. **Unique Adaptations**: Narwhals have adaptations for living in cold waters, such as a thick layer of blubber for insulation and a specialized circulatory system that helps them manage their body temperature.\\n\\nNarwhals are emblematic of the Arctic\\'s unique biodiversity, and their striking appearance often captivates researchers and the public alike.', additional_kwargs={'refusal': None}, response_metadata={'token_usage': {'completion_tokens': 417, 'prompt_tokens': 17, 'total_tokens': 434, 'completion_tokens_details': {'accepted_prediction_tokens': 0, 'audio_tokens': 0, 'reasoning_tokens': 0, 'rejected_prediction_tokens': 0}, 'prompt_tokens_details': {'audio_tokens': 0, 'cached_tokens': 0}}, 'model_name': 'gpt-4o-mini-2024-07-18', 'system_fingerprint': 'fp_51db84afab', 'id': 'chatcmpl-CJlx0NVXWHRZmLipdyQpJQMQbGuMW', 'service_tier': 'default', 'finish_reason': 'stop', 'logprobs': None}, id='run--d9a57e0f-f51f-497f-b6fb-352c6e77b9ee-0', usage_metadata={'input_tokens': 17, 'output_tokens': 417, 'total_tokens': 434, 'input_token_details': {'audio': 0, 'cache_read': 0}, 'output_token_details': {'audio': 0, 'reasoning': 0}}),\n",
       " HumanMessage(content='Tell me where Orcas live!', additional_kwargs={}, response_metadata={}, name='Lance')]"
      ]
     },
     "execution_count": 18,
     "metadata": {},
     "output_type": "execute_result"
    }
   ],
   "source": [
    "# adding new messages to the message list\n",
    "messages.append(output['messages'][-1])\n",
    "messages.append(HumanMessage(f\"Tell me where Orcas live!\", name=\"Lance\"))\n",
    "messages"
   ]
  },
  {
   "cell_type": "code",
   "execution_count": null,
   "id": "6d9d8971-c75c-43ca-a209-eb1d07b2ead0",
   "metadata": {},
   "outputs": [
    {
     "data": {
      "text/plain": [
       "[HumanMessage(content='Tell me where Orcas live!', additional_kwargs={}, response_metadata={}, name='Lance')]"
      ]
     },
     "execution_count": 19,
     "metadata": {},
     "output_type": "execute_result"
    }
   ],
   "source": [
    "# Example of trimming messages after adding more messages\n",
    "trim_messages(\n",
    "            messages,\n",
    "            max_tokens=100,\n",
    "            strategy=\"last\",\n",
    "            token_counter=ChatOpenAI(model=\"gpt-4o-mini\"),\n",
    "            allow_partial=False\n",
    "        )\n",
    "# In langsmith, we see that the model only received \"Tell me where Orcas live!\""
   ]
  },
  {
   "cell_type": "code",
   "execution_count": 22,
   "id": "ed70a269-a869-4fa0-a1df-29736a432c51",
   "metadata": {},
   "outputs": [],
   "source": [
    "# Invoke, using message trimming in the chat_model_node \n",
    "messages_out_trim = graph.invoke({'messages': messages})"
   ]
  },
  {
   "cell_type": "code",
   "execution_count": 21,
   "id": "571bdc8e",
   "metadata": {},
   "outputs": [
    {
     "data": {
      "text/plain": [
       "[AIMessage(content=\"\\n7. **Unique Adaptations**: Narwhals have adaptations for living in cold waters, such as a thick layer of blubber for insulation and a specialized circulatory system that helps them manage their body temperature.\\n\\nNarwhals are emblematic of the Arctic's unique biodiversity, and their striking appearance often captivates researchers and the public alike.\", additional_kwargs={'refusal': None}, response_metadata={'token_usage': {'completion_tokens': 417, 'prompt_tokens': 17, 'total_tokens': 434, 'completion_tokens_details': {'accepted_prediction_tokens': 0, 'audio_tokens': 0, 'reasoning_tokens': 0, 'rejected_prediction_tokens': 0}, 'prompt_tokens_details': {'audio_tokens': 0, 'cached_tokens': 0}}, 'model_name': 'gpt-4o-mini-2024-07-18', 'system_fingerprint': 'fp_51db84afab', 'id': 'chatcmpl-CJlx0NVXWHRZmLipdyQpJQMQbGuMW', 'service_tier': 'default', 'finish_reason': 'stop', 'logprobs': None}, id='run--d9a57e0f-f51f-497f-b6fb-352c6e77b9ee-0', usage_metadata={'input_tokens': 17, 'output_tokens': 417, 'total_tokens': 434, 'input_token_details': {'audio': 0, 'cache_read': 0}, 'output_token_details': {'audio': 0, 'reasoning': 0}}),\n",
       " HumanMessage(content='Tell me where Orcas live!', additional_kwargs={}, response_metadata={}, name='Lance')]"
      ]
     },
     "execution_count": 21,
     "metadata": {},
     "output_type": "execute_result"
    }
   ],
   "source": [
    "# Allowing partial messages\n",
    "# Example of trimming messages after adding more messages\n",
    "trim_messages(\n",
    "            messages,\n",
    "            max_tokens=100,\n",
    "            strategy=\"last\",\n",
    "            token_counter=ChatOpenAI(model=\"gpt-4o-mini\"),\n",
    "            allow_partial=True\n",
    "        )"
   ]
  },
  {
   "cell_type": "code",
   "execution_count": 23,
   "id": "c910b506",
   "metadata": {},
   "outputs": [],
   "source": [
    "from langchain_core.messages import trim_messages\n",
    "\n",
    "# Node\n",
    "def chat_model_node(state: MessagesState):\n",
    "    messages = trim_messages(\n",
    "            state[\"messages\"],\n",
    "            max_tokens=100, # TOKEN LIMITATION\n",
    "            strategy=\"last\", # Keep the last <= n_count tokens of the messages\n",
    "            token_counter=ChatOpenAI(model=\"gpt-4o-mini\"),\n",
    "            allow_partial=True, # Whether to split a message if only part of the message can be included. If ``strategy=\"last\"`` then the last partial contents of a message are included.\n",
    "        )\n",
    "    return {\"messages\": [llm.invoke(messages)]}\n",
    "\n",
    "# Build graph\n",
    "builder = StateGraph(MessagesState)\n",
    "builder.add_node(\"chat_model\", chat_model_node)\n",
    "builder.add_edge(START, \"chat_model\")\n",
    "builder.add_edge(\"chat_model\", END)\n",
    "graph = builder.compile()"
   ]
  },
  {
   "cell_type": "code",
   "execution_count": null,
   "id": "757e9c09",
   "metadata": {},
   "outputs": [],
   "source": [
    "# Invoke, using message trimming in the chat_model_node \n",
    "messages_out_trim = graph.invoke({'messages': messages})\n",
    "\n",
    "# In langsmith, we see that the model received the previous partial AI message + \"Tell me where Orcas live!\""
   ]
  },
  {
   "cell_type": "markdown",
   "id": "38b3db67-380e-46b5-9a6a-20100ba52008",
   "metadata": {},
   "source": [
    "Let's look at the LangSmith trace to see the model invocation:\n",
    "\n",
    "https://smith.langchain.com/public/b153f7e9-f1a5-4d60-8074-f0d7ab5b42ef/r"
   ]
  }
 ],
 "metadata": {
  "kernelspec": {
   "display_name": "lc-academy-env",
   "language": "python",
   "name": "python3"
  },
  "language_info": {
   "codemirror_mode": {
    "name": "ipython",
    "version": 3
   },
   "file_extension": ".py",
   "mimetype": "text/x-python",
   "name": "python",
   "nbconvert_exporter": "python",
   "pygments_lexer": "ipython3",
   "version": "3.12.3"
  }
 },
 "nbformat": 4,
 "nbformat_minor": 5
}
